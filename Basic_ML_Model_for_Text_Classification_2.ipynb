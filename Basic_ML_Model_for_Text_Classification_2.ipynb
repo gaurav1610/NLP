{
  "nbformat": 4,
  "nbformat_minor": 0,
  "metadata": {
    "kernelspec": {
      "display_name": "Python 3",
      "language": "python",
      "name": "python3"
    },
    "language_info": {
      "codemirror_mode": {
        "name": "ipython",
        "version": 3
      },
      "file_extension": ".py",
      "mimetype": "text/x-python",
      "name": "python",
      "nbconvert_exporter": "python",
      "pygments_lexer": "ipython3",
      "version": "3.5.6"
    },
    "colab": {
      "name": "Basic ML Model for Text Classification 2.ipynb",
      "provenance": [],
      "toc_visible": true,
      "include_colab_link": true
    }
  },
  "cells": [
    {
      "cell_type": "markdown",
      "metadata": {
        "id": "view-in-github",
        "colab_type": "text"
      },
      "source": [
        "<a href=\"https://colab.research.google.com/github/gaurav1610/NLP/blob/master/Basic_ML_Model_for_Text_Classification_2.ipynb\" target=\"_parent\"><img src=\"https://colab.research.google.com/assets/colab-badge.svg\" alt=\"Open In Colab\"/></a>"
      ]
    },
    {
      "cell_type": "markdown",
      "metadata": {
        "id": "CqGlpNDBwYkm",
        "colab_type": "text"
      },
      "source": [
        "## Build a Basic ML Model for Text Classification\n",
        "\n",
        " - In this notebook, you'll learn how to implement a text classification task using machine learning. \n",
        " - You'll learn to create basic NLP based features that can be created from the text and you'll then test the model on the test data set to evaluate it's performance.\n",
        " \n",
        "To make things interesting, the task is to build a machine learning model to **classify** whether a particular tweet is **hate speech** or **not**. I'll explain more as you proceed further, so let's start without much ado!\n",
        " \n",
        "### Table of Contents\n",
        "\n",
        "1. About the Dataset\n",
        "2. Text Cleaning\n",
        "3. Feature Engineering \n",
        "4. Train an ML model for Text Classification\n",
        "5. Evaluate the ML model \n",
        "6. Conclusion"
      ]
    },
    {
      "cell_type": "code",
      "metadata": {
        "id": "qfmxOxZXwfRb",
        "colab_type": "code",
        "colab": {
          "base_uri": "https://localhost:8080/",
          "height": 124
        },
        "outputId": "603da288-b407-4aad-816f-3de50116d6ba"
      },
      "source": [
        "from google.colab import drive\n",
        "drive.mount('/content/drive')"
      ],
      "execution_count": 2,
      "outputs": [
        {
          "output_type": "stream",
          "text": [
            "Go to this URL in a browser: https://accounts.google.com/o/oauth2/auth?client_id=947318989803-6bn6qk8qdgf4n4g3pfee6491hc0brc4i.apps.googleusercontent.com&redirect_uri=urn%3aietf%3awg%3aoauth%3a2.0%3aoob&response_type=code&scope=email%20https%3a%2f%2fwww.googleapis.com%2fauth%2fdocs.test%20https%3a%2f%2fwww.googleapis.com%2fauth%2fdrive%20https%3a%2f%2fwww.googleapis.com%2fauth%2fdrive.photos.readonly%20https%3a%2f%2fwww.googleapis.com%2fauth%2fpeopleapi.readonly\n",
            "\n",
            "Enter your authorization code:\n",
            "··········\n",
            "Mounted at /content/drive\n"
          ],
          "name": "stdout"
        }
      ]
    },
    {
      "cell_type": "markdown",
      "metadata": {
        "id": "iwbhrTkXwYko",
        "colab_type": "text"
      },
      "source": [
        "### 1. About the Dataset\n",
        "\n",
        "The dataset that you are going to use is of **Detecting Hate Speech** in people's tweets. You can download it from [here.](http://trainings.analyticsvidhya.com/asset-v1:AnalyticsVidhya+NLP101+2018_T1+type@asset+block@final_dataset_basicmlmodel.csv)\n",
        "Let's load the dataset using pandas and have a quick look at some sample tweets. \n"
      ]
    },
    {
      "cell_type": "code",
      "metadata": {
        "id": "XZXJ7GfpwYkp",
        "colab_type": "code",
        "colab": {
          "base_uri": "https://localhost:8080/",
          "height": 202
        },
        "outputId": "b2f1a6fb-88db-47e6-d99c-c3eb447a1da6"
      },
      "source": [
        "#Load the dataset\n",
        "import pandas as pd\n",
        "\n",
        "dataset = pd.read_csv('/content/drive/My Drive/Basic_ML_Model_for_Text_Classification/final_dataset_basicmlmodel.csv')\n",
        "dataset.head()"
      ],
      "execution_count": 5,
      "outputs": [
        {
          "output_type": "execute_result",
          "data": {
            "text/html": [
              "<div>\n",
              "<style scoped>\n",
              "    .dataframe tbody tr th:only-of-type {\n",
              "        vertical-align: middle;\n",
              "    }\n",
              "\n",
              "    .dataframe tbody tr th {\n",
              "        vertical-align: top;\n",
              "    }\n",
              "\n",
              "    .dataframe thead th {\n",
              "        text-align: right;\n",
              "    }\n",
              "</style>\n",
              "<table border=\"1\" class=\"dataframe\">\n",
              "  <thead>\n",
              "    <tr style=\"text-align: right;\">\n",
              "      <th></th>\n",
              "      <th>id</th>\n",
              "      <th>label</th>\n",
              "      <th>tweet</th>\n",
              "    </tr>\n",
              "  </thead>\n",
              "  <tbody>\n",
              "    <tr>\n",
              "      <th>0</th>\n",
              "      <td>1</td>\n",
              "      <td>0</td>\n",
              "      <td>@user when a father is dysfunctional and is s...</td>\n",
              "    </tr>\n",
              "    <tr>\n",
              "      <th>1</th>\n",
              "      <td>2</td>\n",
              "      <td>0</td>\n",
              "      <td>@user @user thanks for #lyft credit i can't us...</td>\n",
              "    </tr>\n",
              "    <tr>\n",
              "      <th>2</th>\n",
              "      <td>3</td>\n",
              "      <td>0</td>\n",
              "      <td>bihday your majesty</td>\n",
              "    </tr>\n",
              "    <tr>\n",
              "      <th>3</th>\n",
              "      <td>4</td>\n",
              "      <td>0</td>\n",
              "      <td>#model   i love u take with u all the time in ...</td>\n",
              "    </tr>\n",
              "    <tr>\n",
              "      <th>4</th>\n",
              "      <td>5</td>\n",
              "      <td>0</td>\n",
              "      <td>factsguide: society now    #motivation</td>\n",
              "    </tr>\n",
              "  </tbody>\n",
              "</table>\n",
              "</div>"
            ],
            "text/plain": [
              "   id  label                                              tweet\n",
              "0   1      0   @user when a father is dysfunctional and is s...\n",
              "1   2      0  @user @user thanks for #lyft credit i can't us...\n",
              "2   3      0                                bihday your majesty\n",
              "3   4      0  #model   i love u take with u all the time in ...\n",
              "4   5      0             factsguide: society now    #motivation"
            ]
          },
          "metadata": {
            "tags": []
          },
          "execution_count": 5
        }
      ]
    },
    {
      "cell_type": "markdown",
      "metadata": {
        "id": "uMz2mWZKwYkv",
        "colab_type": "text"
      },
      "source": [
        "**Things to note**\n",
        " - **label** is the column that contains the target variable or the value that has to be predicted. 1 means it's a hate speech and 0 means it is not.\n",
        " - **tweet** is the column that contains the text of the tweet. This is the main data on which NLP techniques will be applied.\n",
        " \n",
        "Let's have a close look at some of the tweets."
      ]
    },
    {
      "cell_type": "code",
      "metadata": {
        "id": "Wde6cgGxwYkw",
        "colab_type": "code",
        "colab": {
          "base_uri": "https://localhost:8080/",
          "height": 104
        },
        "outputId": "df7859c3-969f-49a7-e40a-2771564582ba"
      },
      "source": [
        "for index, tweet in enumerate(dataset[\"tweet\"][10:15]):\n",
        "    print(index+1,\".\",tweet)"
      ],
      "execution_count": 6,
      "outputs": [
        {
          "output_type": "stream",
          "text": [
            "1 .  â #ireland consumer price index (mom) climbed from previous 0.2% to 0.5% in may   #blog #silver #gold #forex\n",
            "2 . we are so selfish. #orlando #standwithorlando #pulseshooting #orlandoshooting #biggerproblems #selfish #heabreaking   #values #love #\n",
            "3 . i get to see my daddy today!!   #80days #gettingfed\n",
            "4 . ouch...junior is angryð#got7 #junior #yugyoem   #omg \n",
            "5 . i am thankful for having a paner. #thankful #positive     \n"
          ],
          "name": "stdout"
        }
      ]
    },
    {
      "cell_type": "markdown",
      "metadata": {
        "id": "MjKv3OU6wYk1",
        "colab_type": "text"
      },
      "source": [
        "**Note :- Noise present in Tweets**\n",
        "\n",
        " - If you look closely, you'll see that there are many hashtags present in the tweets of the form `#` symbol followed by text. We particularly don't need the `#` symbol so we will clean it out.\n",
        " - Also, there are strange symbols like `â` and `ð` in tweet 4. This is actually `unicode` characters that is present in our dataset that we need to get rid of because they don't particularly add anything meaningful.\n",
        " - There are also numerals and percentages .\n",
        "\n",
        "### 2. Data Cleaning\n",
        "\n",
        "Let's clean up the noise in our dataset."
      ]
    },
    {
      "cell_type": "code",
      "metadata": {
        "id": "-_80PpGXwYk1",
        "colab_type": "code",
        "colab": {}
      },
      "source": [
        "import re\n",
        "\n",
        "#Clean text from noise\n",
        "def clean_text(text):\n",
        "    #Filter to allow only alphabets\n",
        "    text = re.sub(r'[^a-zA-Z\\']', ' ', text)\n",
        "    \n",
        "    #Remove Unicode characters\n",
        "    text = re.sub(r'[^\\x00-\\x7F]+', '', text)\n",
        "    \n",
        "    #Convert to lowercase to maintain consistency\n",
        "    text = text.lower()\n",
        "       \n",
        "    return text"
      ],
      "execution_count": 0,
      "outputs": []
    },
    {
      "cell_type": "code",
      "metadata": {
        "id": "zmcFoqz9wYk5",
        "colab_type": "code",
        "colab": {}
      },
      "source": [
        "dataset['clean_text'] = dataset.tweet.apply(lambda x: clean_text(x))"
      ],
      "execution_count": 0,
      "outputs": []
    },
    {
      "cell_type": "markdown",
      "metadata": {
        "id": "h7m3lUVgwYk9",
        "colab_type": "text"
      },
      "source": [
        "### 3. Feature Engineering\n",
        "\n",
        " - Feature engineering is the science (and art) of extracting more information from existing data. You are not adding any new data here, but you are actually making the data you already have more useful. \n",
        " - The machine learning model does not understand text directly, **so we create numerical features that reperesant the  underlying text**.\n",
        " - In this module, you'll deal with very basic NLP based features and as you progress further in the course you'll come across more complex and efficient ways of doing the same."
      ]
    },
    {
      "cell_type": "code",
      "metadata": {
        "id": "doP_AtjLwYk-",
        "colab_type": "code",
        "colab": {}
      },
      "source": [
        "#Exhaustive list of stopwords in the english language. We want to focus less on these so at some point will have to filter\n",
        "STOP_WORDS = ['a', 'about', 'above', 'after', 'again', 'against', 'all', 'also', 'am', 'an', 'and',\n",
        "              'any', 'are', \"aren't\", 'as', 'at', 'be', 'because', 'been', 'before', 'being', 'below',\n",
        "              'between', 'both', 'but', 'by', 'can', \"can't\", 'cannot', 'com', 'could', \"couldn't\", 'did',\n",
        "              \"didn't\", 'do', 'does', \"doesn't\", 'doing', \"don't\", 'down', 'during', 'each', 'else', 'ever',\n",
        "              'few', 'for', 'from', 'further', 'get', 'had', \"hadn't\", 'has', \"hasn't\", 'have', \"haven't\", 'having',\n",
        "              'he', \"he'd\", \"he'll\", \"he's\", 'her', 'here', \"here's\", 'hers', 'herself', 'him', 'himself', 'his', 'how',\n",
        "              \"how's\", 'however', 'http', 'i', \"i'd\", \"i'll\", \"i'm\", \"i've\", 'if', 'in', 'into', 'is', \"isn't\", 'it',\n",
        "              \"it's\", 'its', 'itself', 'just', 'k', \"let's\", 'like', 'me', 'more', 'most', \"mustn't\", 'my', 'myself',\n",
        "              'no', 'nor', 'not', 'of', 'off', 'on', 'once', 'only', 'or', 'other', 'otherwise', 'ought', 'our', 'ours',\n",
        "              'ourselves', 'out', 'over', 'own', 'r', 'same', 'shall', \"shan't\", 'she', \"she'd\", \"she'll\", \"she's\",\n",
        "              'should', \"shouldn't\", 'since', 'so', 'some', 'such', 'than', 'that', \"that's\", 'the', 'their', 'theirs',\n",
        "              'them', 'themselves', 'then', 'there', \"there's\", 'these', 'they', \"they'd\", \"they'll\", \"they're\",\n",
        "              \"they've\", 'this', 'those', 'through', 'to', 'too', 'under', 'until', 'up', 'very', 'was', \"wasn't\",\n",
        "              'we', \"we'd\", \"we'll\", \"we're\", \"we've\", 'were', \"weren't\", 'what', \"what's\", 'when', \"when's\", 'where',\n",
        "              \"where's\", 'which', 'while', 'who', \"who's\", 'whom', 'why', \"why's\", 'with', \"won't\", 'would', \"wouldn't\",\n",
        "              'www', 'you', \"you'd\", \"you'll\", \"you're\", \"you've\", 'your', 'yours', 'yourself', 'yourselves']\n",
        "\n",
        "#Generate word frequency\n",
        "def gen_freq(text):\n",
        "    #Will store the list of words\n",
        "    word_list = []\n",
        "\n",
        "    #Loop over all the tweets and extract words into word_list\n",
        "    for tw_words in text.split():\n",
        "        word_list.extend(tw_words)\n",
        "\n",
        "    #Create word frequencies using word_list\n",
        "    word_freq = pd.Series(word_list).value_counts()\n",
        "    \n",
        "    #Drop the stopwords during the frequency calculation\n",
        "    word_freq = word_freq.drop(STOP_WORDS, errors='ignore')\n",
        "    \n",
        "    return word_freq\n",
        "\n",
        "#Check whether a negation term is present in the text\n",
        "def any_neg(words):\n",
        "    for word in words:\n",
        "        if word in ['n', 'no', 'non', 'not'] or re.search(r\"\\wn't\", word):\n",
        "            return 1\n",
        "    else:\n",
        "        return 0\n",
        "\n",
        "#Check whether one of the 100 rare words is present in the text\n",
        "def any_rare(words, rare_100):\n",
        "    for word in words:\n",
        "        if word in rare_100:\n",
        "            return 1\n",
        "    else:\n",
        "        return 0\n",
        "\n",
        "#Check whether prompt words are present\n",
        "def is_question(words):\n",
        "    for word in words:\n",
        "        if word in ['when', 'what', 'how', 'why', 'who']:\n",
        "            return 1\n",
        "    else:\n",
        "        return 0"
      ],
      "execution_count": 0,
      "outputs": []
    },
    {
      "cell_type": "code",
      "metadata": {
        "id": "s19p4OQ8wYlC",
        "colab_type": "code",
        "colab": {}
      },
      "source": [
        "word_freq = gen_freq(dataset.clean_text.str)\n",
        "#100 most rare words in the dataset\n",
        "rare_100 = word_freq[-100:]\n",
        "#Number of words in a tweet\n",
        "dataset['word_count'] = dataset.clean_text.str.split().apply(lambda x: len(x))\n",
        "#Negation present or not\n",
        "dataset['any_neg'] = dataset.clean_text.str.split().apply(lambda x: any_neg(x))\n",
        "#Prompt present or not\n",
        "dataset['is_question'] = dataset.clean_text.str.split().apply(lambda x: is_question(x))\n",
        "#Any of the most 100 rare words present or not\n",
        "dataset['any_rare'] = dataset.clean_text.str.split().apply(lambda x: any_rare(x, rare_100))\n",
        "#Character count of the tweet\n",
        "dataset['char_count'] = dataset.clean_text.apply(lambda x: len(x))"
      ],
      "execution_count": 0,
      "outputs": []
    },
    {
      "cell_type": "code",
      "metadata": {
        "id": "xRqIJtnjwYlG",
        "colab_type": "code",
        "colab": {
          "base_uri": "https://localhost:8080/",
          "height": 208
        },
        "outputId": "0079ccdf-296b-4f79-df72-c319a7b7b1bf"
      },
      "source": [
        "#Top 10 common words are\n",
        "gen_freq(dataset.clean_text.str)[:10]"
      ],
      "execution_count": 11,
      "outputs": [
        {
          "output_type": "execute_result",
          "data": {
            "text/plain": [
              "user      3351\n",
              "amp        439\n",
              "love       320\n",
              "day        254\n",
              "trump      214\n",
              "happy      207\n",
              "will       191\n",
              "people     186\n",
              "new        171\n",
              "u          158\n",
              "dtype: int64"
            ]
          },
          "metadata": {
            "tags": []
          },
          "execution_count": 11
        }
      ]
    },
    {
      "cell_type": "code",
      "metadata": {
        "id": "FZSQAjAXwYlK",
        "colab_type": "code",
        "colab": {
          "base_uri": "https://localhost:8080/",
          "height": 202
        },
        "outputId": "a0fd45b8-2c21-4b02-a3f2-1c0b80dc54a3"
      },
      "source": [
        "dataset.head()"
      ],
      "execution_count": 12,
      "outputs": [
        {
          "output_type": "execute_result",
          "data": {
            "text/html": [
              "<div>\n",
              "<style scoped>\n",
              "    .dataframe tbody tr th:only-of-type {\n",
              "        vertical-align: middle;\n",
              "    }\n",
              "\n",
              "    .dataframe tbody tr th {\n",
              "        vertical-align: top;\n",
              "    }\n",
              "\n",
              "    .dataframe thead th {\n",
              "        text-align: right;\n",
              "    }\n",
              "</style>\n",
              "<table border=\"1\" class=\"dataframe\">\n",
              "  <thead>\n",
              "    <tr style=\"text-align: right;\">\n",
              "      <th></th>\n",
              "      <th>id</th>\n",
              "      <th>label</th>\n",
              "      <th>tweet</th>\n",
              "      <th>clean_text</th>\n",
              "      <th>word_count</th>\n",
              "      <th>any_neg</th>\n",
              "      <th>is_question</th>\n",
              "      <th>any_rare</th>\n",
              "      <th>char_count</th>\n",
              "    </tr>\n",
              "  </thead>\n",
              "  <tbody>\n",
              "    <tr>\n",
              "      <th>0</th>\n",
              "      <td>1</td>\n",
              "      <td>0</td>\n",
              "      <td>@user when a father is dysfunctional and is s...</td>\n",
              "      <td>user when a father is dysfunctional and is s...</td>\n",
              "      <td>18</td>\n",
              "      <td>0</td>\n",
              "      <td>1</td>\n",
              "      <td>0</td>\n",
              "      <td>102</td>\n",
              "    </tr>\n",
              "    <tr>\n",
              "      <th>1</th>\n",
              "      <td>2</td>\n",
              "      <td>0</td>\n",
              "      <td>@user @user thanks for #lyft credit i can't us...</td>\n",
              "      <td>user  user thanks for  lyft credit i can't us...</td>\n",
              "      <td>19</td>\n",
              "      <td>1</td>\n",
              "      <td>0</td>\n",
              "      <td>0</td>\n",
              "      <td>122</td>\n",
              "    </tr>\n",
              "    <tr>\n",
              "      <th>2</th>\n",
              "      <td>3</td>\n",
              "      <td>0</td>\n",
              "      <td>bihday your majesty</td>\n",
              "      <td>bihday your majesty</td>\n",
              "      <td>3</td>\n",
              "      <td>0</td>\n",
              "      <td>0</td>\n",
              "      <td>0</td>\n",
              "      <td>21</td>\n",
              "    </tr>\n",
              "    <tr>\n",
              "      <th>3</th>\n",
              "      <td>4</td>\n",
              "      <td>0</td>\n",
              "      <td>#model   i love u take with u all the time in ...</td>\n",
              "      <td>model   i love u take with u all the time in ...</td>\n",
              "      <td>12</td>\n",
              "      <td>0</td>\n",
              "      <td>0</td>\n",
              "      <td>0</td>\n",
              "      <td>86</td>\n",
              "    </tr>\n",
              "    <tr>\n",
              "      <th>4</th>\n",
              "      <td>5</td>\n",
              "      <td>0</td>\n",
              "      <td>factsguide: society now    #motivation</td>\n",
              "      <td>factsguide  society now     motivation</td>\n",
              "      <td>4</td>\n",
              "      <td>0</td>\n",
              "      <td>0</td>\n",
              "      <td>0</td>\n",
              "      <td>39</td>\n",
              "    </tr>\n",
              "  </tbody>\n",
              "</table>\n",
              "</div>"
            ],
            "text/plain": [
              "   id  label  ... any_rare char_count\n",
              "0   1      0  ...        0        102\n",
              "1   2      0  ...        0        122\n",
              "2   3      0  ...        0         21\n",
              "3   4      0  ...        0         86\n",
              "4   5      0  ...        0         39\n",
              "\n",
              "[5 rows x 9 columns]"
            ]
          },
          "metadata": {
            "tags": []
          },
          "execution_count": 12
        }
      ]
    },
    {
      "cell_type": "markdown",
      "metadata": {
        "id": "VixrHHRMwYlN",
        "colab_type": "text"
      },
      "source": [
        "### Splitting the dataset into Train-Test split\n",
        "\n",
        " - The dataset is split into train and test sets so that we can evaluate our model's performance on unseen data.\n",
        " - The model will only be trained on the `train` set and will make predictions on the `test` set whose data points the model has never seen. This will make sure that we have a proper way to test the model.\n",
        " \n",
        "This is a pretty regular practice in Machine Learning, don't worry if you are confused. It's just a way of testing your model's performance on unseen data."
      ]
    },
    {
      "cell_type": "code",
      "metadata": {
        "id": "3okNLcVNwYlO",
        "colab_type": "code",
        "colab": {}
      },
      "source": [
        "from sklearn.model_selection import train_test_split\n",
        "\n",
        "X = dataset[['word_count', 'any_neg', 'any_rare', 'char_count', 'is_question']]\n",
        "y = dataset.label\n",
        "\n",
        "X_train, X_test, y_train, y_test = train_test_split(X, y, test_size=0.1, random_state=27)"
      ],
      "execution_count": 0,
      "outputs": []
    },
    {
      "cell_type": "markdown",
      "metadata": {
        "id": "9uhV1w3EwYlQ",
        "colab_type": "text"
      },
      "source": [
        "### 4. Train an ML model for Text Classification\n",
        "\n",
        "Now that the dataset is ready, it is time to train a Machine Learning model on the same. You will be using a **Naive Bayes** classifier from `sklearn` which is a prominent python library used for machine learning."
      ]
    },
    {
      "cell_type": "code",
      "metadata": {
        "id": "_58XAqOWwYlR",
        "colab_type": "code",
        "colab": {}
      },
      "source": [
        "from sklearn.naive_bayes import GaussianNB\n",
        "\n",
        "#Initialize GaussianNB classifier\n",
        "model = GaussianNB()\n",
        "#Fit the model on the train dataset\n",
        "model = model.fit(X_train, y_train)\n",
        "#Make predictions on the test dataset\n",
        "pred = model.predict(X_test)"
      ],
      "execution_count": 0,
      "outputs": []
    },
    {
      "cell_type": "markdown",
      "metadata": {
        "id": "WPOuh-lSwYlU",
        "colab_type": "text"
      },
      "source": [
        "### 5. Evaluate the ML model\n",
        "\n",
        "It is time to train the model on previously unseen data: **X_test** and **y_test** sets that you previously created. Let's check the accuracy of the model."
      ]
    },
    {
      "cell_type": "code",
      "metadata": {
        "id": "I_62HqcZwYlV",
        "colab_type": "code",
        "colab": {
          "base_uri": "https://localhost:8080/",
          "height": 34
        },
        "outputId": "898a0198-359f-44a8-faa1-66663913ab12"
      },
      "source": [
        "from sklearn.metrics import accuracy_score\n",
        "\n",
        "print(\"Accuracy:\", accuracy_score(y_test, pred)*100, \"%\")"
      ],
      "execution_count": 15,
      "outputs": [
        {
          "output_type": "stream",
          "text": [
            "Accuracy: 59.04761904761905 %\n"
          ],
          "name": "stdout"
        }
      ]
    },
    {
      "cell_type": "markdown",
      "metadata": {
        "id": "jP_0kj2HwYlY",
        "colab_type": "text"
      },
      "source": [
        "### 6. Conclusion\n",
        "\n",
        "**Note:** that since we have used very basic NLP features, the classification accuracy and f1 scores aren't that impressive. The goal of this exercise was to make you familiar with the model building process and I hope that you have a better idea on how to build a text classification model."
      ]
    }
  ]
}